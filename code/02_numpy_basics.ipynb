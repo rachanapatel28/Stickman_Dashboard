{
 "cells": [
  {
   "cell_type": "code",
   "execution_count": 1,
   "id": "60bb33a5",
   "metadata": {},
   "outputs": [],
   "source": [
    "import numpy as np"
   ]
  },
  {
   "cell_type": "markdown",
   "id": "23897a1c",
   "metadata": {},
   "source": [
    "## Data Types"
   ]
  },
  {
   "cell_type": "code",
   "execution_count": 10,
   "id": "a737b6c8",
   "metadata": {},
   "outputs": [],
   "source": [
    "int_array=[1,2,3,4,5]\n",
    "float_array=[1.0,2.1,3.2,4.0,5.2]"
   ]
  },
  {
   "cell_type": "code",
   "execution_count": 11,
   "id": "93c1056e",
   "metadata": {},
   "outputs": [
    {
     "data": {
      "text/plain": [
       "dtype('int64')"
      ]
     },
     "execution_count": 11,
     "metadata": {},
     "output_type": "execute_result"
    }
   ],
   "source": [
    "int_np=np.array(int_array)\n",
    "int_np.dtype"
   ]
  },
  {
   "cell_type": "code",
   "execution_count": 12,
   "id": "c3f543ec",
   "metadata": {},
   "outputs": [
    {
     "data": {
      "text/plain": [
       "dtype('float64')"
      ]
     },
     "execution_count": 12,
     "metadata": {},
     "output_type": "execute_result"
    }
   ],
   "source": [
    "float_np=np.array(float_array)\n",
    "float_np.dtype"
   ]
  },
  {
   "cell_type": "markdown",
   "id": "330544a0",
   "metadata": {},
   "source": [
    "## Continuous Array"
   ]
  },
  {
   "cell_type": "code",
   "execution_count": 13,
   "id": "c5325a05",
   "metadata": {},
   "outputs": [
    {
     "data": {
      "text/plain": [
       "array([0, 1, 2, 3, 4, 5, 6, 7, 8, 9])"
      ]
     },
     "execution_count": 13,
     "metadata": {},
     "output_type": "execute_result"
    }
   ],
   "source": [
    "x = np.arange(10)\n",
    "x"
   ]
  },
  {
   "cell_type": "code",
   "execution_count": 33,
   "id": "52513dd9",
   "metadata": {},
   "outputs": [
    {
     "data": {
      "text/plain": [
       "array([0, 1, 2, 3, 4, 5])"
      ]
     },
     "execution_count": 33,
     "metadata": {},
     "output_type": "execute_result"
    }
   ],
   "source": [
    "x[0:6]"
   ]
  },
  {
   "cell_type": "code",
   "execution_count": 34,
   "id": "ba4b7100",
   "metadata": {},
   "outputs": [
    {
     "data": {
      "text/plain": [
       "array([0, 2, 4])"
      ]
     },
     "execution_count": 34,
     "metadata": {},
     "output_type": "execute_result"
    }
   ],
   "source": [
    "x[0:6:2]"
   ]
  },
  {
   "cell_type": "markdown",
   "id": "6164897f",
   "metadata": {},
   "source": [
    "## Random Array"
   ]
  },
  {
   "cell_type": "code",
   "execution_count": 79,
   "id": "bd120997",
   "metadata": {},
   "outputs": [
    {
     "data": {
      "text/plain": [
       "array([6, 4, 3, 4, 5, 8, 2, 5, 4, 1])"
      ]
     },
     "execution_count": 79,
     "metadata": {},
     "output_type": "execute_result"
    }
   ],
   "source": [
    "x = np.random.randint(10,size=(10))\n",
    "x"
   ]
  },
  {
   "cell_type": "code",
   "execution_count": 15,
   "id": "97ddd288",
   "metadata": {},
   "outputs": [
    {
     "data": {
      "text/plain": [
       "array([[75, 19, 59,  6],\n",
       "       [91, 89,  6, 82],\n",
       "       [81, 11, 73, 72]])"
      ]
     },
     "execution_count": 15,
     "metadata": {},
     "output_type": "execute_result"
    }
   ],
   "source": [
    "x = np.random.randint(100, size=(3, 4))\n",
    "x"
   ]
  },
  {
   "cell_type": "markdown",
   "id": "6a775d3a",
   "metadata": {},
   "source": [
    "## Slicing"
   ]
  },
  {
   "cell_type": "code",
   "execution_count": 16,
   "id": "8b5d57aa",
   "metadata": {},
   "outputs": [
    {
     "data": {
      "text/plain": [
       "array([[75, 59],\n",
       "       [91,  6],\n",
       "       [81, 73]])"
      ]
     },
     "execution_count": 16,
     "metadata": {},
     "output_type": "execute_result"
    }
   ],
   "source": [
    "x[:3, ::2]"
   ]
  },
  {
   "cell_type": "code",
   "execution_count": 17,
   "id": "b176bcb8",
   "metadata": {},
   "outputs": [
    {
     "data": {
      "text/plain": [
       "(3, 4)"
      ]
     },
     "execution_count": 17,
     "metadata": {},
     "output_type": "execute_result"
    }
   ],
   "source": [
    "x.shape"
   ]
  },
  {
   "cell_type": "markdown",
   "id": "75b4b21c",
   "metadata": {},
   "source": [
    "## Reshaping"
   ]
  },
  {
   "cell_type": "code",
   "execution_count": 18,
   "id": "7045dfa2",
   "metadata": {},
   "outputs": [],
   "source": [
    "x2=x.reshape(2,6)"
   ]
  },
  {
   "cell_type": "code",
   "execution_count": 19,
   "id": "1169f92a",
   "metadata": {},
   "outputs": [
    {
     "data": {
      "text/plain": [
       "(2, 6)"
      ]
     },
     "execution_count": 19,
     "metadata": {},
     "output_type": "execute_result"
    }
   ],
   "source": [
    "x2.shape"
   ]
  },
  {
   "cell_type": "code",
   "execution_count": 21,
   "id": "9278a9b8",
   "metadata": {},
   "outputs": [
    {
     "data": {
      "text/plain": [
       "array([[75, 19, 59,  6, 91, 89],\n",
       "       [ 6, 82, 81, 11, 73, 72]])"
      ]
     },
     "execution_count": 21,
     "metadata": {},
     "output_type": "execute_result"
    }
   ],
   "source": [
    "x2"
   ]
  },
  {
   "cell_type": "markdown",
   "id": "8125d48c",
   "metadata": {},
   "source": [
    "## Concatenate"
   ]
  },
  {
   "cell_type": "code",
   "execution_count": 22,
   "id": "86a6d796",
   "metadata": {},
   "outputs": [
    {
     "data": {
      "text/plain": [
       "(array([70, 25, 47, 76, 59, 50, 39, 36, 31, 94]),\n",
       " array([64, 55, 22, 69, 92, 30, 56,  6, 55, 25]))"
      ]
     },
     "execution_count": 22,
     "metadata": {},
     "output_type": "execute_result"
    }
   ],
   "source": [
    "x1 = np.random.randint(100, size=(10))\n",
    "x2 = np.random.randint(100, size=(10))\n",
    "x1,x2"
   ]
  },
  {
   "cell_type": "code",
   "execution_count": 23,
   "id": "f55b1466",
   "metadata": {},
   "outputs": [
    {
     "data": {
      "text/plain": [
       "array([70, 25, 47, 76, 59, 50, 39, 36, 31, 94, 64, 55, 22, 69, 92, 30, 56,\n",
       "        6, 55, 25])"
      ]
     },
     "execution_count": 23,
     "metadata": {},
     "output_type": "execute_result"
    }
   ],
   "source": [
    "x=np.concatenate([x1,x2])\n",
    "x"
   ]
  },
  {
   "cell_type": "markdown",
   "id": "3b78276e",
   "metadata": {},
   "source": [
    "## Splitting"
   ]
  },
  {
   "cell_type": "code",
   "execution_count": 89,
   "id": "dd15aa97",
   "metadata": {},
   "outputs": [
    {
     "name": "stdout",
     "output_type": "stream",
     "text": [
      "[77  2 90 90 90] [53 14 35] [54  9 78 75 40 13 83 89 28 67 28 52]\n"
     ]
    }
   ],
   "source": [
    "x1, x2, x3 = np.split(x, [5, 8])\n",
    "print(x1, x2, x3)"
   ]
  },
  {
   "cell_type": "code",
   "execution_count": null,
   "id": "0cce75c5",
   "metadata": {},
   "outputs": [],
   "source": []
  },
  {
   "cell_type": "markdown",
   "id": "bea7f0fb",
   "metadata": {},
   "source": [
    "## Basic Statistics"
   ]
  },
  {
   "cell_type": "code",
   "execution_count": 28,
   "id": "5e3ab1e1",
   "metadata": {},
   "outputs": [
    {
     "data": {
      "text/plain": [
       "array([70, 25, 47, 76, 59, 50, 39, 36, 31, 94, 64, 55, 22, 69, 92, 30, 56,\n",
       "        6, 55, 25])"
      ]
     },
     "execution_count": 28,
     "metadata": {},
     "output_type": "execute_result"
    }
   ],
   "source": [
    "x"
   ]
  },
  {
   "cell_type": "code",
   "execution_count": 24,
   "id": "97e45ede",
   "metadata": {},
   "outputs": [
    {
     "data": {
      "text/plain": [
       "94"
      ]
     },
     "execution_count": 24,
     "metadata": {},
     "output_type": "execute_result"
    }
   ],
   "source": [
    "x.max()"
   ]
  },
  {
   "cell_type": "code",
   "execution_count": 25,
   "id": "eec305c9",
   "metadata": {},
   "outputs": [
    {
     "data": {
      "text/plain": [
       "9"
      ]
     },
     "execution_count": 25,
     "metadata": {},
     "output_type": "execute_result"
    }
   ],
   "source": [
    "x.argmax()"
   ]
  },
  {
   "cell_type": "code",
   "execution_count": 26,
   "id": "8c6447f5",
   "metadata": {},
   "outputs": [
    {
     "data": {
      "text/plain": [
       "94"
      ]
     },
     "execution_count": 26,
     "metadata": {},
     "output_type": "execute_result"
    }
   ],
   "source": [
    "x[x.argmax()]"
   ]
  },
  {
   "cell_type": "code",
   "execution_count": 29,
   "id": "b9f856dc",
   "metadata": {},
   "outputs": [
    {
     "data": {
      "text/plain": [
       "50.05"
      ]
     },
     "execution_count": 29,
     "metadata": {},
     "output_type": "execute_result"
    }
   ],
   "source": [
    "np.mean(x)"
   ]
  },
  {
   "cell_type": "code",
   "execution_count": 30,
   "id": "fa4c24eb",
   "metadata": {},
   "outputs": [
    {
     "data": {
      "text/plain": [
       "52.5"
      ]
     },
     "execution_count": 30,
     "metadata": {},
     "output_type": "execute_result"
    }
   ],
   "source": [
    "np.median(x)"
   ]
  },
  {
   "cell_type": "code",
   "execution_count": 31,
   "id": "977094a8",
   "metadata": {},
   "outputs": [
    {
     "data": {
      "text/plain": [
       "22.97493199119423"
      ]
     },
     "execution_count": 31,
     "metadata": {},
     "output_type": "execute_result"
    }
   ],
   "source": [
    "np.std(x)"
   ]
  },
  {
   "cell_type": "code",
   "execution_count": 32,
   "id": "c899ed00",
   "metadata": {},
   "outputs": [
    {
     "data": {
      "text/plain": [
       "527.8475000000001"
      ]
     },
     "execution_count": 32,
     "metadata": {},
     "output_type": "execute_result"
    }
   ],
   "source": [
    "np.var(x)"
   ]
  },
  {
   "cell_type": "code",
   "execution_count": null,
   "id": "e59b9502",
   "metadata": {},
   "outputs": [],
   "source": []
  }
 ],
 "metadata": {
  "kernelspec": {
   "display_name": "Python 3 (ipykernel)",
   "language": "python",
   "name": "python3"
  },
  "language_info": {
   "codemirror_mode": {
    "name": "ipython",
    "version": 3
   },
   "file_extension": ".py",
   "mimetype": "text/x-python",
   "name": "python",
   "nbconvert_exporter": "python",
   "pygments_lexer": "ipython3",
   "version": "3.8.12"
  }
 },
 "nbformat": 4,
 "nbformat_minor": 5
}
