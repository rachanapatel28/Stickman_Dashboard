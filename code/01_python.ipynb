{
 "cells": [
  {
   "cell_type": "markdown",
   "id": "702ed622",
   "metadata": {},
   "source": [
    "# Python Basics"
   ]
  },
  {
   "cell_type": "code",
   "execution_count": 1,
   "id": "b039591f",
   "metadata": {},
   "outputs": [
    {
     "name": "stdout",
     "output_type": "stream",
     "text": [
      "Hello, World!\n"
     ]
    }
   ],
   "source": [
    "print(\"Hello, World!\")"
   ]
  },
  {
   "cell_type": "markdown",
   "id": "f3b0d634",
   "metadata": {},
   "source": [
    "## Variables"
   ]
  },
  {
   "cell_type": "markdown",
   "id": "3b5fb520",
   "metadata": {},
   "source": [
    "### Creating Variables"
   ]
  },
  {
   "cell_type": "code",
   "execution_count": 2,
   "id": "13119274",
   "metadata": {},
   "outputs": [],
   "source": [
    "my_var='James'"
   ]
  },
  {
   "cell_type": "code",
   "execution_count": 3,
   "id": "2bff91c3",
   "metadata": {},
   "outputs": [
    {
     "name": "stdout",
     "output_type": "stream",
     "text": [
      "Hello, James\n"
     ]
    }
   ],
   "source": [
    "print('Hello,',my_var)"
   ]
  },
  {
   "cell_type": "code",
   "execution_count": 5,
   "id": "0ee884ab",
   "metadata": {},
   "outputs": [
    {
     "name": "stdout",
     "output_type": "stream",
     "text": [
      "4 <class 'int'>\n",
      "James <class 'str'>\n"
     ]
    }
   ],
   "source": [
    "my_var = 4       \n",
    "print(my_var,type(my_var))\n",
    "my_var = \"James\"\n",
    "print(my_var,type(my_var))"
   ]
  },
  {
   "cell_type": "markdown",
   "id": "20c2e2d4",
   "metadata": {},
   "source": [
    "### Type Casting"
   ]
  },
  {
   "cell_type": "code",
   "execution_count": 15,
   "id": "fd13f581",
   "metadata": {},
   "outputs": [
    {
     "name": "stdout",
     "output_type": "stream",
     "text": [
      "3 <class 'str'>\n",
      "3 <class 'int'>\n",
      "3.0 <class 'float'>\n",
      "3.0 <class 'str'>\n"
     ]
    }
   ],
   "source": [
    "x = \"3\"\n",
    "print(x,type(x))\n",
    "y = int(x)\n",
    "print(y,type(y))\n",
    "z = float(x)\n",
    "print(z,type(z))\n",
    "x= str(z)\n",
    "print(x,type(x))"
   ]
  },
  {
   "cell_type": "markdown",
   "id": "fa237899",
   "metadata": {},
   "source": [
    "### Assigning Multiple Variable"
   ]
  },
  {
   "cell_type": "code",
   "execution_count": 6,
   "id": "99103922",
   "metadata": {},
   "outputs": [
    {
     "name": "stdout",
     "output_type": "stream",
     "text": [
      "1\n",
      "2\n",
      "3.4\n"
     ]
    }
   ],
   "source": [
    "x, y, z = 1, '2', 3.4\n",
    "print(x)\n",
    "print(y)\n",
    "print(z)"
   ]
  },
  {
   "cell_type": "code",
   "execution_count": 7,
   "id": "3798d430",
   "metadata": {},
   "outputs": [
    {
     "name": "stdout",
     "output_type": "stream",
     "text": [
      "1\n",
      "2\n",
      "3.4\n"
     ]
    }
   ],
   "source": [
    "x, y, z = [1, '2', 3.4]\n",
    "print(x)\n",
    "print(y)\n",
    "print(z)"
   ]
  },
  {
   "cell_type": "code",
   "execution_count": 8,
   "id": "bd3997ad",
   "metadata": {},
   "outputs": [
    {
     "name": "stdout",
     "output_type": "stream",
     "text": [
      "[1, '2', 3.4]\n",
      "[1, '2', 3.4]\n",
      "[1, '2', 3.4]\n"
     ]
    }
   ],
   "source": [
    "x=y=z = [1, '2', 3.4]\n",
    "print(x)\n",
    "print(y)\n",
    "print(z)"
   ]
  },
  {
   "cell_type": "markdown",
   "id": "f4b6b66f",
   "metadata": {},
   "source": [
    "### Data Types"
   ]
  },
  {
   "cell_type": "code",
   "execution_count": 9,
   "id": "f7bdf050",
   "metadata": {},
   "outputs": [
    {
     "name": "stdout",
     "output_type": "stream",
     "text": [
      "Hello World <class 'str'>\n",
      "20 <class 'int'>\n",
      "20.5 <class 'float'>\n",
      "1j <class 'complex'>\n",
      "['apple', 'banana', 'cherry'] <class 'list'>\n",
      "('apple', 'banana', 'cherry') <class 'tuple'>\n",
      "range(0, 6) <class 'range'>\n",
      "{'name': 'John', 'age': 36} <class 'dict'>\n",
      "{'banana', 'apple', 'cherry'} <class 'set'>\n",
      "True <class 'bool'>\n"
     ]
    }
   ],
   "source": [
    "x = \"Hello World\"\n",
    "print(x,type(x))\n",
    "x = 20\n",
    "print(x,type(x))\n",
    "x = 20.5\n",
    "print(x,type(x))\n",
    "x = 1j\n",
    "print(x,type(x))\n",
    "x = [\"apple\", \"banana\", \"cherry\"]\n",
    "print(x,type(x))\n",
    "x = (\"apple\", \"banana\", \"cherry\")\n",
    "print(x,type(x))\n",
    "x = range(6)\n",
    "print(x,type(x))\n",
    "x = {'name':\"John\", 'age':36}\n",
    "print(x,type(x))\n",
    "x = {\"apple\", \"banana\", \"cherry\"}\n",
    "print(x,type(x))\n",
    "x = True\n",
    "print(x,type(x))"
   ]
  },
  {
   "cell_type": "markdown",
   "id": "a8b58704",
   "metadata": {},
   "source": [
    "## String"
   ]
  },
  {
   "cell_type": "code",
   "execution_count": 10,
   "id": "5878ce61",
   "metadata": {},
   "outputs": [
    {
     "name": "stdout",
     "output_type": "stream",
     "text": [
      "Hello, World!\n"
     ]
    }
   ],
   "source": [
    "txt = \"Hello, World!\"\n",
    "print(txt)"
   ]
  },
  {
   "cell_type": "code",
   "execution_count": 11,
   "id": "e9625a9f",
   "metadata": {},
   "outputs": [
    {
     "name": "stdout",
     "output_type": "stream",
     "text": [
      "13\n"
     ]
    }
   ],
   "source": [
    "print(len(txt))"
   ]
  },
  {
   "cell_type": "code",
   "execution_count": 12,
   "id": "8a297d3a",
   "metadata": {},
   "outputs": [
    {
     "name": "stdout",
     "output_type": "stream",
     "text": [
      "H\n"
     ]
    }
   ],
   "source": [
    "print(txt[0])"
   ]
  },
  {
   "cell_type": "code",
   "execution_count": 13,
   "id": "3c95bebf",
   "metadata": {},
   "outputs": [
    {
     "name": "stdout",
     "output_type": "stream",
     "text": [
      "Hello\n"
     ]
    }
   ],
   "source": [
    "print(txt[0:5])"
   ]
  },
  {
   "cell_type": "code",
   "execution_count": 14,
   "id": "05a34265",
   "metadata": {},
   "outputs": [
    {
     "name": "stdout",
     "output_type": "stream",
     "text": [
      "Hello\n"
     ]
    }
   ],
   "source": [
    "print(txt[:5])"
   ]
  },
  {
   "cell_type": "code",
   "execution_count": 15,
   "id": "c17f0bc4",
   "metadata": {},
   "outputs": [
    {
     "name": "stdout",
     "output_type": "stream",
     "text": [
      "World\n"
     ]
    }
   ],
   "source": [
    "print(txt[7:12])"
   ]
  },
  {
   "cell_type": "code",
   "execution_count": 18,
   "id": "5c49eb35",
   "metadata": {},
   "outputs": [
    {
     "name": "stdout",
     "output_type": "stream",
     "text": [
      "World!\n"
     ]
    }
   ],
   "source": [
    "print(txt[7:])"
   ]
  },
  {
   "cell_type": "code",
   "execution_count": 19,
   "id": "92322895",
   "metadata": {},
   "outputs": [
    {
     "name": "stdout",
     "output_type": "stream",
     "text": [
      "hello, world!\n"
     ]
    }
   ],
   "source": [
    "print(txt.lower())"
   ]
  },
  {
   "cell_type": "code",
   "execution_count": 20,
   "id": "51b7bcf3",
   "metadata": {},
   "outputs": [
    {
     "name": "stdout",
     "output_type": "stream",
     "text": [
      "HELLO, WORLD!\n"
     ]
    }
   ],
   "source": [
    "txt=txt.upper()\n",
    "print(txt)"
   ]
  },
  {
   "cell_type": "code",
   "execution_count": 21,
   "id": "1667e5c2",
   "metadata": {},
   "outputs": [
    {
     "name": "stdout",
     "output_type": "stream",
     "text": [
      "Hello, World!\n"
     ]
    }
   ],
   "source": [
    "txt=txt.title()\n",
    "print(txt)"
   ]
  },
  {
   "cell_type": "code",
   "execution_count": 22,
   "id": "78b8c3e2",
   "metadata": {},
   "outputs": [
    {
     "name": "stdout",
     "output_type": "stream",
     "text": [
      "Jello, World!\n"
     ]
    }
   ],
   "source": [
    "print(txt.replace('H','J'))"
   ]
  },
  {
   "cell_type": "code",
   "execution_count": 23,
   "id": "448f9911",
   "metadata": {},
   "outputs": [
    {
     "name": "stdout",
     "output_type": "stream",
     "text": [
      "['Hello', ' World!']\n"
     ]
    }
   ],
   "source": [
    "print(txt.split(','))"
   ]
  },
  {
   "cell_type": "code",
   "execution_count": null,
   "id": "58701654",
   "metadata": {},
   "outputs": [],
   "source": []
  },
  {
   "cell_type": "code",
   "execution_count": 26,
   "id": "cbe944ec",
   "metadata": {},
   "outputs": [
    {
     "name": "stdout",
     "output_type": "stream",
     "text": [
      "Hello\n",
      " World!\n",
      "World!\n"
     ]
    }
   ],
   "source": [
    "x,y=txt.split(',')\n",
    "print(x)\n",
    "print(y)\n",
    "y=y.strip()\n",
    "print(y)"
   ]
  },
  {
   "cell_type": "code",
   "execution_count": 27,
   "id": "2a896589",
   "metadata": {},
   "outputs": [
    {
     "name": "stdout",
     "output_type": "stream",
     "text": [
      "HelloWorld!\n"
     ]
    }
   ],
   "source": [
    "print(x+y)"
   ]
  },
  {
   "cell_type": "code",
   "execution_count": 28,
   "id": "bbbef348",
   "metadata": {},
   "outputs": [
    {
     "name": "stdout",
     "output_type": "stream",
     "text": [
      "Hello, World!\n"
     ]
    }
   ],
   "source": [
    "print(f\"{x}, {y}\")"
   ]
  },
  {
   "cell_type": "code",
   "execution_count": 44,
   "id": "d623b4ea",
   "metadata": {},
   "outputs": [
    {
     "name": "stdout",
     "output_type": "stream",
     "text": [
      "\n",
      "Hello\n",
      "World\n",
      "\n"
     ]
    }
   ],
   "source": [
    "txt=\"\"\"\n",
    "Hello\n",
    "World\n",
    "\"\"\"\n",
    "print(txt)"
   ]
  },
  {
   "cell_type": "code",
   "execution_count": 45,
   "id": "ac697275",
   "metadata": {},
   "outputs": [
    {
     "name": "stdout",
     "output_type": "stream",
     "text": [
      "\n",
      "\n",
      "H\n",
      "e\n",
      "l\n",
      "l\n",
      "o\n",
      "\n",
      "\n",
      "W\n",
      "o\n",
      "r\n",
      "l\n",
      "d\n",
      "\n",
      "\n"
     ]
    }
   ],
   "source": [
    "for i in txt:\n",
    "    print(i)"
   ]
  },
  {
   "cell_type": "markdown",
   "id": "e0e0ca82",
   "metadata": {},
   "source": [
    "## Operators"
   ]
  },
  {
   "cell_type": "code",
   "execution_count": 29,
   "id": "6cf89ef1",
   "metadata": {},
   "outputs": [],
   "source": [
    "x=100\n",
    "y=3"
   ]
  },
  {
   "cell_type": "code",
   "execution_count": 30,
   "id": "e1db9e14",
   "metadata": {},
   "outputs": [
    {
     "data": {
      "text/plain": [
       "103"
      ]
     },
     "execution_count": 30,
     "metadata": {},
     "output_type": "execute_result"
    }
   ],
   "source": [
    "x+y"
   ]
  },
  {
   "cell_type": "code",
   "execution_count": 31,
   "id": "bb22e288",
   "metadata": {},
   "outputs": [
    {
     "data": {
      "text/plain": [
       "97"
      ]
     },
     "execution_count": 31,
     "metadata": {},
     "output_type": "execute_result"
    }
   ],
   "source": [
    "x-y"
   ]
  },
  {
   "cell_type": "code",
   "execution_count": 32,
   "id": "4e1c4656",
   "metadata": {},
   "outputs": [
    {
     "data": {
      "text/plain": [
       "300"
      ]
     },
     "execution_count": 32,
     "metadata": {},
     "output_type": "execute_result"
    }
   ],
   "source": [
    "x*y"
   ]
  },
  {
   "cell_type": "code",
   "execution_count": 33,
   "id": "c2a9019b",
   "metadata": {},
   "outputs": [
    {
     "data": {
      "text/plain": [
       "1000000"
      ]
     },
     "execution_count": 33,
     "metadata": {},
     "output_type": "execute_result"
    }
   ],
   "source": [
    "x**y"
   ]
  },
  {
   "cell_type": "code",
   "execution_count": 35,
   "id": "200d8b7e",
   "metadata": {},
   "outputs": [
    {
     "data": {
      "text/plain": [
       "33.333333333333336"
      ]
     },
     "execution_count": 35,
     "metadata": {},
     "output_type": "execute_result"
    }
   ],
   "source": [
    "x/y"
   ]
  },
  {
   "cell_type": "code",
   "execution_count": 36,
   "id": "858325d3",
   "metadata": {},
   "outputs": [
    {
     "data": {
      "text/plain": [
       "33"
      ]
     },
     "execution_count": 36,
     "metadata": {},
     "output_type": "execute_result"
    }
   ],
   "source": [
    "x//y"
   ]
  },
  {
   "cell_type": "code",
   "execution_count": 67,
   "id": "70c75fa8",
   "metadata": {},
   "outputs": [
    {
     "data": {
      "text/plain": [
       "103"
      ]
     },
     "execution_count": 67,
     "metadata": {},
     "output_type": "execute_result"
    }
   ],
   "source": [
    "x+=y\n",
    "x"
   ]
  },
  {
   "cell_type": "code",
   "execution_count": 37,
   "id": "5681b747",
   "metadata": {},
   "outputs": [
    {
     "data": {
      "text/plain": [
       "97"
      ]
     },
     "execution_count": 37,
     "metadata": {},
     "output_type": "execute_result"
    }
   ],
   "source": [
    "x-=y\n",
    "x"
   ]
  },
  {
   "cell_type": "code",
   "execution_count": 38,
   "id": "d0d59c83",
   "metadata": {},
   "outputs": [
    {
     "data": {
      "text/plain": [
       "32.333333333333336"
      ]
     },
     "execution_count": 38,
     "metadata": {},
     "output_type": "execute_result"
    }
   ],
   "source": [
    "x/=y\n",
    "x"
   ]
  },
  {
   "cell_type": "code",
   "execution_count": 39,
   "id": "95d14f15",
   "metadata": {},
   "outputs": [
    {
     "data": {
      "text/plain": [
       "97.0"
      ]
     },
     "execution_count": 39,
     "metadata": {},
     "output_type": "execute_result"
    }
   ],
   "source": [
    "x*=y\n",
    "x"
   ]
  },
  {
   "cell_type": "markdown",
   "id": "bdbd945c",
   "metadata": {},
   "source": [
    "## List "
   ]
  },
  {
   "cell_type": "code",
   "execution_count": 40,
   "id": "80c8f414",
   "metadata": {},
   "outputs": [],
   "source": [
    "lt=[5,1,4,2,3]"
   ]
  },
  {
   "cell_type": "code",
   "execution_count": 41,
   "id": "6d8c44e5",
   "metadata": {},
   "outputs": [
    {
     "data": {
      "text/plain": [
       "[1, 2, 3, 4, 5]"
      ]
     },
     "execution_count": 41,
     "metadata": {},
     "output_type": "execute_result"
    }
   ],
   "source": [
    "lt.sort()\n",
    "lt"
   ]
  },
  {
   "cell_type": "code",
   "execution_count": 42,
   "id": "6318865f",
   "metadata": {},
   "outputs": [
    {
     "data": {
      "text/plain": [
       "15"
      ]
     },
     "execution_count": 42,
     "metadata": {},
     "output_type": "execute_result"
    }
   ],
   "source": [
    "sum(lt)"
   ]
  },
  {
   "cell_type": "code",
   "execution_count": 43,
   "id": "c8353a6c",
   "metadata": {},
   "outputs": [
    {
     "data": {
      "text/plain": [
       "(2, 5)"
      ]
     },
     "execution_count": 43,
     "metadata": {},
     "output_type": "execute_result"
    }
   ],
   "source": [
    "lt[1],lt[-1]"
   ]
  },
  {
   "cell_type": "code",
   "execution_count": 45,
   "id": "c2c96625",
   "metadata": {},
   "outputs": [
    {
     "data": {
      "text/plain": [
       "[1, 2]"
      ]
     },
     "execution_count": 45,
     "metadata": {},
     "output_type": "execute_result"
    }
   ],
   "source": [
    "lt[:2]"
   ]
  },
  {
   "cell_type": "code",
   "execution_count": 46,
   "id": "fdcf48bb",
   "metadata": {},
   "outputs": [
    {
     "name": "stdout",
     "output_type": "stream",
     "text": [
      "1\n",
      "2\n",
      "3\n",
      "4\n",
      "5\n"
     ]
    }
   ],
   "source": [
    "for l in lt:\n",
    "    print(l)"
   ]
  },
  {
   "cell_type": "markdown",
   "id": "8ae9d95e",
   "metadata": {},
   "source": [
    "## Dictionaries "
   ]
  },
  {
   "cell_type": "code",
   "execution_count": 54,
   "id": "34a5a8bc",
   "metadata": {},
   "outputs": [],
   "source": [
    "d={'name':'James','age':26, 'height':173, 'weight':71}"
   ]
  },
  {
   "cell_type": "code",
   "execution_count": null,
   "id": "e9f3c50a",
   "metadata": {},
   "outputs": [],
   "source": []
  },
  {
   "cell_type": "code",
   "execution_count": 55,
   "id": "a5514111",
   "metadata": {},
   "outputs": [],
   "source": [
    "d['age']=20"
   ]
  },
  {
   "cell_type": "code",
   "execution_count": 56,
   "id": "8071726e",
   "metadata": {},
   "outputs": [
    {
     "data": {
      "text/plain": [
       "('James', 20)"
      ]
     },
     "execution_count": 56,
     "metadata": {},
     "output_type": "execute_result"
    }
   ],
   "source": [
    "d['name'], d['age']"
   ]
  },
  {
   "cell_type": "code",
   "execution_count": 57,
   "id": "4b80fa28",
   "metadata": {},
   "outputs": [
    {
     "data": {
      "text/plain": [
       "{'age': 20, 'height': 173, 'weight': 71, 'first_name': 'James'}"
      ]
     },
     "execution_count": 57,
     "metadata": {},
     "output_type": "execute_result"
    }
   ],
   "source": [
    "d['first_name']=d['name']\n",
    "del d['name']\n",
    "d"
   ]
  },
  {
   "cell_type": "code",
   "execution_count": 59,
   "id": "8720b9b0",
   "metadata": {},
   "outputs": [
    {
     "data": {
      "text/plain": [
       "{'age': 20,\n",
       " 'height': 173,\n",
       " 'weight': 71,\n",
       " 'first_name': 'James',\n",
       " 'last_name': 'Arthur'}"
      ]
     },
     "execution_count": 59,
     "metadata": {},
     "output_type": "execute_result"
    }
   ],
   "source": [
    "d['last_name']='Arthur'\n",
    "d"
   ]
  },
  {
   "cell_type": "markdown",
   "id": "01e19c39",
   "metadata": {},
   "source": [
    "### Conditions, Loops and Functions"
   ]
  },
  {
   "cell_type": "code",
   "execution_count": 61,
   "id": "be24be3c",
   "metadata": {},
   "outputs": [
    {
     "name": "stdout",
     "output_type": "stream",
     "text": [
      "True Block\n"
     ]
    }
   ],
   "source": [
    "if True:\n",
    "    print(\"True Block\")"
   ]
  },
  {
   "cell_type": "code",
   "execution_count": 62,
   "id": "79f45028",
   "metadata": {},
   "outputs": [
    {
     "name": "stdout",
     "output_type": "stream",
     "text": [
      "Else Block\n"
     ]
    }
   ],
   "source": [
    "if False:\n",
    "    print(\"False Block\")\n",
    "else:\n",
    "    print(\"Else Block\")"
   ]
  },
  {
   "cell_type": "code",
   "execution_count": 63,
   "id": "767d2407",
   "metadata": {},
   "outputs": [
    {
     "name": "stdout",
     "output_type": "stream",
     "text": [
      "True Block\n"
     ]
    }
   ],
   "source": [
    "if False:\n",
    "    print(\"False Block\")\n",
    "elif True:\n",
    "    print(\"True Block\")\n",
    "else:\n",
    "    print(\"Else Block\")"
   ]
  },
  {
   "cell_type": "code",
   "execution_count": 64,
   "id": "184c6aa6",
   "metadata": {},
   "outputs": [
    {
     "data": {
      "text/plain": [
       "{'age': 20,\n",
       " 'height': 173,\n",
       " 'weight': 71,\n",
       " 'first_name': 'James',\n",
       " 'last_name': 'Arthur'}"
      ]
     },
     "execution_count": 64,
     "metadata": {},
     "output_type": "execute_result"
    }
   ],
   "source": [
    "d"
   ]
  },
  {
   "cell_type": "code",
   "execution_count": 67,
   "id": "005d8ab0",
   "metadata": {},
   "outputs": [
    {
     "name": "stdout",
     "output_type": "stream",
     "text": [
      "First Name: James\n",
      "Last Name: Arthur\n"
     ]
    }
   ],
   "source": [
    "for k,v in d.items():\n",
    "    if 'name' in k:\n",
    "        print(f\"{k.replace('_',' ').title()}: {v}\")"
   ]
  },
  {
   "cell_type": "code",
   "execution_count": 70,
   "id": "1624ebaf",
   "metadata": {},
   "outputs": [
    {
     "name": "stdout",
     "output_type": "stream",
     "text": [
      "23 <class 'int'>\n"
     ]
    }
   ],
   "source": [
    "for i in ['orange','red', 'blue', 23, 2.4]:\n",
    "    if isinstance(i,int):\n",
    "        print(i,type(i))"
   ]
  },
  {
   "cell_type": "code",
   "execution_count": null,
   "id": "79db5984",
   "metadata": {},
   "outputs": [],
   "source": []
  },
  {
   "cell_type": "code",
   "execution_count": 108,
   "id": "f4616749",
   "metadata": {},
   "outputs": [
    {
     "name": "stdout",
     "output_type": "stream",
     "text": [
      "0\n",
      "1\n",
      "2\n",
      "3\n",
      "4\n",
      "5\n"
     ]
    }
   ],
   "source": [
    "count=0\n",
    "while True:\n",
    "    print(count)\n",
    "    count+=1\n",
    "    if count == 6:\n",
    "        break"
   ]
  },
  {
   "cell_type": "code",
   "execution_count": 72,
   "id": "368c2016",
   "metadata": {},
   "outputs": [
    {
     "name": "stdout",
     "output_type": "stream",
     "text": [
      "0\n",
      "1\n",
      "2\n",
      "3\n",
      "4\n",
      "5\n"
     ]
    }
   ],
   "source": [
    "count=0\n",
    "while count < 6:\n",
    "    print(count)\n",
    "    count+=1"
   ]
  },
  {
   "cell_type": "code",
   "execution_count": null,
   "id": "8d0339de",
   "metadata": {},
   "outputs": [],
   "source": []
  },
  {
   "cell_type": "code",
   "execution_count": 73,
   "id": "f15d6bd5",
   "metadata": {},
   "outputs": [],
   "source": [
    "def print_helloworld():\n",
    "    print(\"Hello, World!\")"
   ]
  },
  {
   "cell_type": "code",
   "execution_count": 74,
   "id": "090f3ac5",
   "metadata": {},
   "outputs": [
    {
     "name": "stdout",
     "output_type": "stream",
     "text": [
      "Hello, World!\n"
     ]
    }
   ],
   "source": [
    "print_helloworld()"
   ]
  },
  {
   "cell_type": "code",
   "execution_count": 75,
   "id": "910bd18c",
   "metadata": {},
   "outputs": [],
   "source": [
    "def greet(name):\n",
    "    print('Greetings',name.title())"
   ]
  },
  {
   "cell_type": "code",
   "execution_count": 76,
   "id": "6f084f75",
   "metadata": {},
   "outputs": [
    {
     "name": "stdout",
     "output_type": "stream",
     "text": [
      "Greetings James\n",
      "Greetings Arthur\n"
     ]
    }
   ],
   "source": [
    "greet('James')\n",
    "greet('arthur')"
   ]
  },
  {
   "cell_type": "code",
   "execution_count": 77,
   "id": "e2a972cf",
   "metadata": {},
   "outputs": [],
   "source": [
    "def add(x,y):\n",
    "    return x+y"
   ]
  },
  {
   "cell_type": "code",
   "execution_count": 79,
   "id": "84077e03",
   "metadata": {},
   "outputs": [
    {
     "name": "stdout",
     "output_type": "stream",
     "text": [
      "30\n",
      "22\n"
     ]
    }
   ],
   "source": [
    "print(add(10,20))\n",
    "print(add(12,10))"
   ]
  },
  {
   "cell_type": "code",
   "execution_count": 80,
   "id": "7654671e",
   "metadata": {},
   "outputs": [
    {
     "name": "stdout",
     "output_type": "stream",
     "text": [
      "15\n",
      "20\n"
     ]
    }
   ],
   "source": [
    "x = lambda a : a + 10\n",
    "print(x(5))\n",
    "print(x(10))"
   ]
  },
  {
   "cell_type": "code",
   "execution_count": null,
   "id": "7fc30431",
   "metadata": {},
   "outputs": [],
   "source": []
  },
  {
   "cell_type": "code",
   "execution_count": 82,
   "id": "bcff5c4b",
   "metadata": {},
   "outputs": [],
   "source": [
    "class person():\n",
    "    def __init__(self,first_name,last_name,age,gender):\n",
    "        self.first_name=first_name\n",
    "        self.last_name=last_name        \n",
    "        self.age=age\n",
    "        self.gender=gender\n",
    "    def says(self,sentence):\n",
    "        print(f\"{self.first_name}: {sentence}\")"
   ]
  },
  {
   "cell_type": "code",
   "execution_count": 83,
   "id": "ba17500a",
   "metadata": {},
   "outputs": [],
   "source": [
    "j=person(first_name='James',last_name='Arthur',age=24,gender='Male')\n",
    "s=person(first_name='Sofia',last_name='Parker',age=29,gender='Female')"
   ]
  },
  {
   "cell_type": "code",
   "execution_count": 139,
   "id": "106c6691",
   "metadata": {},
   "outputs": [
    {
     "name": "stdout",
     "output_type": "stream",
     "text": [
      "James: Hello\n",
      "Sofia: Hi\n",
      "James: How are you?\n",
      "Sofia: Fine\n"
     ]
    }
   ],
   "source": [
    "j.says(\"Hello\")\n",
    "s.says(\"Hi\")\n",
    "j.says(\"How are you?\")\n",
    "s.says(\"Fine\")"
   ]
  },
  {
   "cell_type": "code",
   "execution_count": null,
   "id": "5921384b",
   "metadata": {},
   "outputs": [],
   "source": []
  },
  {
   "cell_type": "code",
   "execution_count": null,
   "id": "10f525a7",
   "metadata": {},
   "outputs": [],
   "source": []
  },
  {
   "cell_type": "code",
   "execution_count": null,
   "id": "682fcc41",
   "metadata": {},
   "outputs": [],
   "source": []
  },
  {
   "cell_type": "code",
   "execution_count": null,
   "id": "d7fb299d",
   "metadata": {},
   "outputs": [],
   "source": []
  }
 ],
 "metadata": {
  "kernelspec": {
   "display_name": "Python 3 (ipykernel)",
   "language": "python",
   "name": "python3"
  },
  "language_info": {
   "codemirror_mode": {
    "name": "ipython",
    "version": 3
   },
   "file_extension": ".py",
   "mimetype": "text/x-python",
   "name": "python",
   "nbconvert_exporter": "python",
   "pygments_lexer": "ipython3",
   "version": "3.8.12"
  }
 },
 "nbformat": 4,
 "nbformat_minor": 5
}
